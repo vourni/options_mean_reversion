{
 "cells": [
  {
   "cell_type": "code",
   "execution_count": 1,
   "metadata": {},
   "outputs": [],
   "source": [
    "import pandas as pd\n",
    "import numpy as np\n",
    "import os\n",
    "\n",
    "DATA_DIR = 'data'\n",
    "CSV_DIR = 'csv'"
   ]
  },
  {
   "cell_type": "code",
   "execution_count": 2,
   "metadata": {},
   "outputs": [],
   "source": [
    "# Reading data in\n",
    "read_path = os.path.join(DATA_DIR, CSV_DIR,'raw_data.csv')\n",
    "data = pd.read_csv(read_path)"
   ]
  },
  {
   "cell_type": "code",
   "execution_count": 3,
   "metadata": {},
   "outputs": [],
   "source": [
    "# Defining function to calculate emas\n",
    "def calculate_ema(closes, n):\n",
    "    # Fromula for alpha\n",
    "    alpha = 2/(n+1)\n",
    "\n",
    "    # Initializing variables\n",
    "    ema = np.zeros(len(closes))\n",
    "    ema[0] = closes.iloc[0]\n",
    "\n",
    "    # Looping through all closing prices to calculate ema\n",
    "    for i in range(1, len(data)):\n",
    "        ema[i] = (alpha * closes.iloc[i]) + ((1-alpha) * ema[i-1])\n",
    "    \n",
    "    return ema\n",
    "\n",
    "# Defining function to calculate ATR\n",
    "def calculate_ATR(high, low, close, n):\n",
    "    # Initializng variables\n",
    "    TR = np.zeros(len(high))\n",
    "    ATR = np.zeros(len(high))\n",
    "\n",
    "    # Setting value for yesterday close\n",
    "    y_close = close.shift(1)\n",
    "\n",
    "    # Taking values for calculation of true range(TR)\n",
    "    H_L = high - low\n",
    "    H_y = abs(high - y_close)\n",
    "    L_y = abs(low - y_close)\n",
    "\n",
    "    # Calculating TR\n",
    "    for i in range(0, len(high)):\n",
    "        TR[i] = max(H_L.iloc[i], H_y.iloc[i], L_y.iloc[i])\n",
    "    \n",
    "    # Initializing ATR\n",
    "    ATR[n] = (1 / n) * sum(TR[:n])\n",
    "\n",
    "    # Calcualting ATR\n",
    "    for i in range(n+1, len(high)):\n",
    "        ATR[i] = ((ATR[i-1] * (n-1)) + TR[i]) / n\n",
    "\n",
    "    return ATR"
   ]
  },
  {
   "cell_type": "code",
   "execution_count": 4,
   "metadata": {},
   "outputs": [],
   "source": [
    "# Creating 5, 10, 20 period emas\n",
    "for n in [5,10,20]:\n",
    "    data[f'ema_{n}'] = calculate_ema(data['close'], n)\n",
    "\n",
    "# Adding atr column\n",
    "data['atr'] = calculate_ATR(data['high'], data['low'], data['close'], 20)\n",
    "\n",
    "# Adding KC bands\n",
    "data['upper_band'] = data['ema_20'] + 4 * data['atr']\n",
    "data['lower_band'] = data['ema_20'] - 4 * data['atr']"
   ]
  },
  {
   "cell_type": "code",
   "execution_count": 5,
   "metadata": {},
   "outputs": [],
   "source": [
    "# Defining rolling window size\n",
    "window = 20\n",
    "\n",
    "# Creating column for previous minute close\n",
    "data['previous'] = data['close'].shift(1)\n",
    "\n",
    "# Creating column for % change per min\n",
    "data['change'] = (data['close'] - data['previous']) / data['previous'] * 100\n",
    "\n",
    "# Average change over window size \n",
    "data[f'average_{window}_change'] = data['change'].rolling(window).mean()\n",
    "\n",
    "# Defining setup conditions\n",
    "data['put_setup'] = np.where(data[f'average_{window}_change'] > 0.005, True, False)\n",
    "data['call_setup'] = np.where(data[f'average_{window}_change'] < -0.005, True, False)\n",
    "\n",
    "# Removing nulls\n",
    "data.drop(range(0,window), inplace=True)\n",
    "data = data.copy()"
   ]
  },
  {
   "cell_type": "code",
   "execution_count": 6,
   "metadata": {},
   "outputs": [],
   "source": [
    "# Saving to csv\n",
    "save_path = os.path.join(DATA_DIR, CSV_DIR, 'technicals.csv')\n",
    "data.to_csv(save_path, index=False)\n",
    "data = None"
   ]
  }
 ],
 "metadata": {
  "kernelspec": {
   "display_name": "base",
   "language": "python",
   "name": "python3"
  },
  "language_info": {
   "codemirror_mode": {
    "name": "ipython",
    "version": 3
   },
   "file_extension": ".py",
   "mimetype": "text/x-python",
   "name": "python",
   "nbconvert_exporter": "python",
   "pygments_lexer": "ipython3",
   "version": "3.11.7"
  }
 },
 "nbformat": 4,
 "nbformat_minor": 2
}
