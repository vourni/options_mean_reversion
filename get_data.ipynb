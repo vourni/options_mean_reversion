{
 "cells": [
  {
   "cell_type": "code",
   "execution_count": 9,
   "metadata": {},
   "outputs": [],
   "source": [
    "import pandas as pd\n",
    "import time\n",
    "from datetime import datetime as dt, date, timedelta\n",
    "from polygon import RESTClient\n",
    "from secret import API_KEY"
   ]
  },
  {
   "cell_type": "code",
   "execution_count": 10,
   "metadata": {},
   "outputs": [],
   "source": [
    "# Getting API key adn client\n",
    "api_key = API_KEY\n",
    "client = RESTClient(api_key)"
   ]
  },
  {
   "cell_type": "code",
   "execution_count": 11,
   "metadata": {},
   "outputs": [],
   "source": [
    "# Setting Variables\n",
    "ticker = 'AAPL'\n",
    "multiplier = 1\n",
    "timespan = 'minute'\n",
    "date_ranges = [\n",
    "    ('2023-01-01', '2023-03-01'),\n",
    "    ('2023-03-02', '2023-05-01'),\n",
    "    ('2023-05-02', '2023-07-01'),\n",
    "    ('2023-07-02', '2023-09-01'),\n",
    "    ('2023-09-02', '2023-11-01'),\n",
    "    ('2023-11-02', '2024-01-01'),\n",
    "    ('2024-01-02', '2024-03-01'),\n",
    "    ('2024-03-02', '2024-05-01'),\n",
    "    ('2024-05-02', '2024-07-01'),\n",
    "    ('2024-07-02', '2024-09-01'),\n",
    "    ('2024-09-02', '2024-11-01'),\n",
    "    ('2024-11-02', '2024-12-31')\n",
    "]\n",
    "adjusted = True\n",
    "limit= 50000"
   ]
  },
  {
   "cell_type": "code",
   "execution_count": 12,
   "metadata": {},
   "outputs": [],
   "source": [
    "# Initializing list for data\n",
    "data_list = []\n",
    "\n",
    "# Looping through date ranges\n",
    "for from_date, to_date in date_ranges:\n",
    "    # Waiting so no error\n",
    "    time.sleep(12)\n",
    "    # Getting data\n",
    "    agg = client.get_aggs(\n",
    "        ticker=ticker,\n",
    "        multiplier=multiplier,\n",
    "        timespan=timespan,\n",
    "        from_=from_date,\n",
    "        to=to_date,\n",
    "        adjusted=adjusted,\n",
    "        limit=limit\n",
    "    )\n",
    "\n",
    "    # Adding data to list\n",
    "    data_list.extend(agg)\n",
    "\n",
    "# Creating dataframe\n",
    "data = pd.DataFrame(data_list)"
   ]
  },
  {
   "cell_type": "code",
   "execution_count": 13,
   "metadata": {},
   "outputs": [],
   "source": [
    "# Converting timestamps to datetime\n",
    "data['timestamp'] = pd.to_datetime(data['timestamp'], unit='ms', utc=True)\n",
    "\n",
    "# Separating date, time, hour, and minutes\n",
    "data['date'] = data['timestamp'].dt.date\n",
    "data['time'] = data['timestamp'].dt.time\n",
    "data['hour'] = data['timestamp'].dt.hour\n",
    "data['minute'] = data['timestamp'].dt.minute\n",
    "\n",
    "# Setting market open/close times\n",
    "market_open = dt.strptime('09:30:00', '%H:%M:%S').time()\n",
    "market_close = dt.strptime('16:00:00', '%H:%M:%S').time()\n",
    "\n",
    "# Filtering extended hour data out\n",
    "data_market_hours = data[\n",
    "    (data['time'] >= market_open) &\n",
    "    (data['time'] <= market_close)\n",
    "].copy()\n",
    "\n",
    "# REmoving duplicates, dropping redundant columns, reseting index\n",
    "data_market_hours = data_market_hours[data_market_hours.duplicated() == False]\n",
    "data_market_hours.drop(['otc', 'hour', 'minute'], axis=1, inplace=True)\n",
    "data_market_hours.reset_index(drop=True, inplace=True)\n",
    "\n",
    "data = data_market_hours.copy()"
   ]
  },
  {
   "cell_type": "code",
   "execution_count": 14,
   "metadata": {},
   "outputs": [],
   "source": [
    "# Exporting to csv\n",
    "data.to_csv('raw_data.csv')"
   ]
  }
 ],
 "metadata": {
  "kernelspec": {
   "display_name": "base",
   "language": "python",
   "name": "python3"
  },
  "language_info": {
   "codemirror_mode": {
    "name": "ipython",
    "version": 3
   },
   "file_extension": ".py",
   "mimetype": "text/x-python",
   "name": "python",
   "nbconvert_exporter": "python",
   "pygments_lexer": "ipython3",
   "version": "3.11.7"
  }
 },
 "nbformat": 4,
 "nbformat_minor": 2
}
