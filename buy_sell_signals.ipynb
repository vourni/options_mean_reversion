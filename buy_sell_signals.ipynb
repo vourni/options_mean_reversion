{
 "cells": [
  {
   "cell_type": "code",
   "execution_count": 39,
   "metadata": {},
   "outputs": [],
   "source": [
    "import pandas as pd\n",
    "import numpy as np\n",
    "import datetime as dt"
   ]
  },
  {
   "cell_type": "code",
   "execution_count": 40,
   "metadata": {},
   "outputs": [],
   "source": [
    "# Reading in data\n",
    "data = pd.read_csv('technicals.csv')"
   ]
  },
  {
   "cell_type": "code",
   "execution_count": 41,
   "metadata": {},
   "outputs": [],
   "source": [
    "# Setting index to datetime and removing bad columns\n",
    "data = data.set_index('timestamp').drop(['Unnamed: 0.1', 'Unnamed: 0'], axis=1).copy()"
   ]
  },
  {
   "cell_type": "code",
   "execution_count": 42,
   "metadata": {},
   "outputs": [],
   "source": [
    "# Creating buy and sell signals\n",
    "data['buy'] = np.where((data['low'] <= data['lower_band']) & (data['time'] > '10:30:00'), True, False)\n",
    "data['sell'] = np.where((data['high'] >= data['ema_10']) & (data['time'] > \"10:30:00\"), True, False)"
   ]
  },
  {
   "cell_type": "code",
   "execution_count": 43,
   "metadata": {},
   "outputs": [],
   "source": [
    "# Removing times when buy and sell are at the same time and isolating times when buy or sell\n",
    "data = data[(data['buy'] & data['sell']) != True].copy()\n",
    "data = data[(data['buy'] | data['sell']) == True].copy()"
   ]
  },
  {
   "cell_type": "code",
   "execution_count": 44,
   "metadata": {},
   "outputs": [],
   "source": [
    "# Initializing last action variable\n",
    "last = None\n",
    "\n",
    "# Looping through each row\n",
    "for index, row in data.iterrows():\n",
    "    # Checking value of last and swithcing value accordingly \n",
    "    if row['sell'] == True and last != 'sell':\n",
    "        # Sell action and last action was buy\n",
    "        last = 'sell'\n",
    "    elif row['buy'] == True and last != 'buy':\n",
    "        # Buy action and last action was sell\n",
    "        last = 'buy'\n",
    "    else:\n",
    "        # Consecutive\n",
    "        data.at[index, 'buy'] = False\n",
    "        data.at[index, 'sell'] = False"
   ]
  },
  {
   "cell_type": "code",
   "execution_count": null,
   "metadata": {},
   "outputs": [],
   "source": [
    "# Removing first sell indicatoe\n",
    "data = data.tail(data.shape[0] - 20)\n",
    "data = data.copy()"
   ]
  },
  {
   "cell_type": "code",
   "execution_count": 54,
   "metadata": {},
   "outputs": [],
   "source": [
    "data.to_csv('signals.csv')"
   ]
  }
 ],
 "metadata": {
  "kernelspec": {
   "display_name": "base",
   "language": "python",
   "name": "python3"
  },
  "language_info": {
   "codemirror_mode": {
    "name": "ipython",
    "version": 3
   },
   "file_extension": ".py",
   "mimetype": "text/x-python",
   "name": "python",
   "nbconvert_exporter": "python",
   "pygments_lexer": "ipython3",
   "version": "3.11.7"
  }
 },
 "nbformat": 4,
 "nbformat_minor": 2
}
