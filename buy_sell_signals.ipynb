{
 "cells": [
  {
   "cell_type": "code",
   "execution_count": 15,
   "metadata": {},
   "outputs": [],
   "source": [
    "import pandas as pd\n",
    "import numpy as np\n",
    "import datetime as dt\n",
    "import os\n",
    "\n",
    "DATA_DIR = 'data'\n",
    "CSV_DIR = 'csv'"
   ]
  },
  {
   "cell_type": "code",
   "execution_count": 16,
   "metadata": {},
   "outputs": [],
   "source": [
    "# Reading in data\n",
    "read_path = os.path.join(DATA_DIR, CSV_DIR, 'technicals.csv')\n",
    "data = pd.read_csv(read_path)"
   ]
  },
  {
   "cell_type": "code",
   "execution_count": 17,
   "metadata": {},
   "outputs": [],
   "source": [
    "# Creating buy and sell signals\n",
    "data['call_buy'] = np.where((data['low'] <= data['lower_band']) & (data['time'] > '10:30:00') & (data['call_setup'] == True), True, False)\n",
    "data['call_sell'] = np.where((data['high'] >= data['ema_20']) & (data['time'] > \"10:30:00\"), True, False)\n",
    "\n",
    "data['put_buy'] = np.where((data['high'] >= data['upper_band']) & (data['time'] > '10:30:00') & (data['put_setup'] == True), True, False)\n",
    "data['put_sell'] = np.where((data['low'] <= data['ema_20']) & (data['time'] > \"10:30:00\"), True, False)"
   ]
  },
  {
   "cell_type": "code",
   "execution_count": 18,
   "metadata": {},
   "outputs": [],
   "source": [
    "# Removing times when buy and sell are at the same time\n",
    "data = data[(data['call_buy'] & data['call_sell']) != True].copy()\n",
    "data = data[(data['put_buy'] & data['put_sell']) != True].copy()\n",
    "\n",
    "data = data[(data['call_buy'] | data['call_sell'] | data['put_buy'] | data['put_sell']) == True].copy()"
   ]
  },
  {
   "cell_type": "code",
   "execution_count": 19,
   "metadata": {},
   "outputs": [],
   "source": [
    "# Initializing variabel for last eaction\n",
    "last = None\n",
    "\n",
    "for index, row in data.iterrows():\n",
    "    \"\"\"\n",
    "    Looping through all rows using logic to determine what vlaues each row should have based on the vlaue of the last action\n",
    "    Results in data frame such that if call_buy = True than the next True value will be in the call_sell column\n",
    "    and if put_buy = True than the next True value will be in the put_sell column\n",
    "    \"\"\"\n",
    "    if row['call_buy']:\n",
    "        if last == 'put_buy':\n",
    "            data.at[index, 'call_buy'] = False\n",
    "            data.at[index, 'call_sell'] = False\n",
    "        \n",
    "        elif last == 'call_buy':\n",
    "            data.at[index, 'call_buy'] = False\n",
    "            data.at[index, 'put_buy'] = False\n",
    "            data.at[index, 'put_sell'] = False\n",
    "\n",
    "        else:\n",
    "            last = 'call_buy'\n",
    "            data.at[index, 'put_sell'] = False\n",
    "\n",
    "    if row['put_buy']:\n",
    "        if last == 'put_buy':\n",
    "            data.at[index, 'call_buy'] = False\n",
    "            data.at[index, 'call_sell'] = False\n",
    "            data.at[index, 'put_buy'] = False\n",
    "        \n",
    "        elif last == 'call_buy':\n",
    "            data.at[index, 'put_sell'] = False\n",
    "            data.at[index, 'put_buy'] = False\n",
    "\n",
    "        else:\n",
    "            last = 'put_buy'\n",
    "            data.at[index, 'call_sell'] = False\n",
    "\n",
    "    if row['call_sell']:\n",
    "        if last == 'call_buy':\n",
    "            last = 'call_sell'\n",
    "            data.at[index, 'put_buy'] = False\n",
    "\n",
    "        else:\n",
    "            data.at[index, 'call_sell'] = False\n",
    "\n",
    "    if row['put_sell']:\n",
    "        if last == 'put_buy':\n",
    "            last = 'put_sell'\n",
    "            data.at[index, 'call_buy'] = False\n",
    "\n",
    "        else:\n",
    "            data.at[index, 'put_sell'] = False\n"
   ]
  },
  {
   "cell_type": "code",
   "execution_count": 20,
   "metadata": {},
   "outputs": [],
   "source": [
    "# Clearing dataframe of uneeded data\n",
    "data = data[(data['call_buy'] | data['call_sell'] | data['put_buy'] | data['put_sell']) == True].copy()"
   ]
  },
  {
   "cell_type": "code",
   "execution_count": 21,
   "metadata": {},
   "outputs": [],
   "source": [
    "# Saving dataframe to csv\n",
    "save_path = os.path.join(DATA_DIR, CSV_DIR, 'signals.csv')\n",
    "data.to_csv(save_path, index=False)\n",
    "data = None"
   ]
  }
 ],
 "metadata": {
  "kernelspec": {
   "display_name": "base",
   "language": "python",
   "name": "python3"
  },
  "language_info": {
   "codemirror_mode": {
    "name": "ipython",
    "version": 3
   },
   "file_extension": ".py",
   "mimetype": "text/x-python",
   "name": "python",
   "nbconvert_exporter": "python",
   "pygments_lexer": "ipython3",
   "version": "3.11.7"
  }
 },
 "nbformat": 4,
 "nbformat_minor": 2
}
