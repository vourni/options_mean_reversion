{
 "cells": [
  {
   "cell_type": "code",
   "execution_count": 2,
   "metadata": {},
   "outputs": [],
   "source": [
    "import pandas as pd"
   ]
  },
  {
   "cell_type": "code",
   "execution_count": 3,
   "metadata": {},
   "outputs": [],
   "source": [
    "data = pd.read_csv('signals.csv')"
   ]
  },
  {
   "cell_type": "code",
   "execution_count": 25,
   "metadata": {},
   "outputs": [
    {
     "name": "stdout",
     "output_type": "stream",
     "text": [
      "Gain: 33.03%\n"
     ]
    }
   ],
   "source": [
    "balance = 10000\n",
    "shares = 0\n",
    "\n",
    "for index, row in data.iterrows():\n",
    "    if row['buy'] == True:\n",
    "        shares = balance / row['close']\n",
    "    elif row['sell'] == True:\n",
    "        balance = shares * row['close']\n",
    "\n",
    "percent_gain = round(((balance - 10000) / 10000) * 100, 2)\n",
    "print(f'Gain: {percent_gain}%')"
   ]
  }
 ],
 "metadata": {
  "kernelspec": {
   "display_name": "base",
   "language": "python",
   "name": "python3"
  },
  "language_info": {
   "codemirror_mode": {
    "name": "ipython",
    "version": 3
   },
   "file_extension": ".py",
   "mimetype": "text/x-python",
   "name": "python",
   "nbconvert_exporter": "python",
   "pygments_lexer": "ipython3",
   "version": "3.11.7"
  }
 },
 "nbformat": 4,
 "nbformat_minor": 2
}
